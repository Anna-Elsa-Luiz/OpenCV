{
 "cells": [
  {
   "cell_type": "code",
   "execution_count": 2,
   "metadata": {},
   "outputs": [],
   "source": [
    "import cv2\n",
    "import numpy as np"
   ]
  },
  {
   "cell_type": "code",
   "execution_count": 5,
   "metadata": {},
   "outputs": [],
   "source": [
    "body_classifier_path = 'models/haarcascade_fullbody.xml'\n",
    "body_classifier = cv2.CascadeClassifier(body_classifier_path)\n",
    "\n",
    "cap = cv2.VideoCapture('videos/walking1.mp4')\n",
    "\n",
    "while cap.isOpened():\n",
    "\n",
    "    ret,frame = cap.read()\n",
    "\n",
    "    gray = cv2.cvtColor(frame, cv2.COLOR_BGR2GRAY)\n",
    "\n",
    "    bodies = body_classifier.detectMultiScale(gray, 1.2, 3)\n",
    "\n",
    "    for (x,y,w,h) in bodies:\n",
    "\n",
    "        cv2.rectangle(frame, (x,y), (x+w, y+h), (0,255,255), 5)\n",
    "        cv2.imshow('Pedestrians', frame)\n",
    "\n",
    "    if cv2.waitKey(1) == 13: \n",
    "        break\n",
    "\n",
    "cap.release()\n",
    "cv2.destroyAllWindows()        "
   ]
  },
  {
   "cell_type": "code",
   "execution_count": 9,
   "metadata": {},
   "outputs": [],
   "source": [
    "import cv2\n",
    "\n",
    "# Path to the pre-trained Haar Cascade classifier for full body detection\n",
    "body_classifier_path = 'models/haarcascade_fullbody.xml'\n",
    "\n",
    "# Load the Haar Cascade classifier for full body detection\n",
    "body_classifier = cv2.CascadeClassifier(body_classifier_path)\n",
    "\n",
    "# Open the video file\n",
    "cap = cv2.VideoCapture('videos/walking1.avi')\n",
    "\n",
    "while cap.isOpened():\n",
    "    # Read a frame from the video capture\n",
    "    ret, frame = cap.read()\n",
    "\n",
    "    # Check if the frame was successfully read\n",
    "    if not ret:\n",
    "        break\n",
    "\n",
    "    # Convert the frame to grayscale\n",
    "    gray = cv2.cvtColor(frame, cv2.COLOR_BGR2GRAY)\n",
    "\n",
    "    # Detect full bodies in the grayscale image\n",
    "    bodies = body_classifier.detectMultiScale(gray, scaleFactor=1.2, minNeighbors=3)\n",
    "\n",
    "    # Loop over each detected full body\n",
    "    for (x, y, w, h) in bodies:\n",
    "        # Draw a rectangle around the detected full body\n",
    "        cv2.rectangle(frame, (x, y), (x+w, y+h), (0, 255, 255), 5)\n",
    "\n",
    "    # Resize the frame to fit within the screen\n",
    "    resized_frame = cv2.resize(frame, (800, 600))  # Adjust the dimensions as needed\n",
    "\n",
    "    # Display the resized frame\n",
    "    cv2.imshow('Pedestrians', resized_frame)\n",
    "\n",
    "    # Check if the user pressed 'q' to quit\n",
    "    if cv2.waitKey(1) == ord('q'):\n",
    "        break\n",
    "\n",
    "# Release the video capture and close all OpenCV windows\n",
    "cap.release()\n",
    "cv2.destroyAllWindows()\n"
   ]
  },
  {
   "cell_type": "code",
   "execution_count": null,
   "metadata": {},
   "outputs": [],
   "source": []
  }
 ],
 "metadata": {
  "kernelspec": {
   "display_name": "Python 3",
   "language": "python",
   "name": "python3"
  },
  "language_info": {
   "codemirror_mode": {
    "name": "ipython",
    "version": 3
   },
   "file_extension": ".py",
   "mimetype": "text/x-python",
   "name": "python",
   "nbconvert_exporter": "python",
   "pygments_lexer": "ipython3",
   "version": "3.11.4"
  }
 },
 "nbformat": 4,
 "nbformat_minor": 2
}
